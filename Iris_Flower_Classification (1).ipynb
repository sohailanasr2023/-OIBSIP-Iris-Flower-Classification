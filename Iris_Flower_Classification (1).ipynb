{
  "nbformat": 4,
  "nbformat_minor": 0,
  "metadata": {
    "colab": {
      "private_outputs": true,
      "provenance": []
    },
    "kernelspec": {
      "name": "python3",
      "display_name": "Python 3"
    },
    "language_info": {
      "name": "python"
    }
  },
  "cells": [
    {
      "cell_type": "markdown",
      "source": [
        "# **Import lib**"
      ],
      "metadata": {
        "id": "M2scP_N4LIVx"
      }
    },
    {
      "cell_type": "code",
      "execution_count": null,
      "metadata": {
        "id": "-tAvCHpiKoAn"
      },
      "outputs": [],
      "source": [
        "import pandas as pd\n",
        "import numpy as np\n",
        "from sklearn.model_selection import train_test_split\n",
        "from sklearn.linear_model import LogisticRegression\n",
        "from sklearn.metrics import accuracy_score\n",
        "import matplotlib.pyplot as plt\n",
        "import seaborn as sns"
      ]
    },
    {
      "cell_type": "markdown",
      "source": [
        "# **Load dataset**"
      ],
      "metadata": {
        "id": "AEu49BF0Lt3p"
      }
    },
    {
      "cell_type": "code",
      "source": [
        "data=pd.read_csv(\"Iris.csv\")"
      ],
      "metadata": {
        "id": "HHDp3rnzLam5"
      },
      "execution_count": null,
      "outputs": []
    },
    {
      "cell_type": "code",
      "source": [
        "data.head(2)"
      ],
      "metadata": {
        "id": "jvlvJItGLmDr"
      },
      "execution_count": null,
      "outputs": []
    },
    {
      "cell_type": "code",
      "source": [
        "data=data.drop(columns=['Id'])\n",
        "data.head(2)"
      ],
      "metadata": {
        "id": "eCztGXzQZU1G"
      },
      "execution_count": null,
      "outputs": []
    },
    {
      "cell_type": "code",
      "source": [
        "data.describe()                   #display stats about data"
      ],
      "metadata": {
        "id": "2mUuoZasOztF"
      },
      "execution_count": null,
      "outputs": []
    },
    {
      "cell_type": "code",
      "source": [
        "data.info()                #display basic info of data"
      ],
      "metadata": {
        "id": "Y0-wKwvVL5qE"
      },
      "execution_count": null,
      "outputs": []
    },
    {
      "cell_type": "code",
      "source": [
        "data['Species'].value_counts()            #to display no on each class"
      ],
      "metadata": {
        "id": "SRgOYOTfOuHC"
      },
      "execution_count": null,
      "outputs": []
    },
    {
      "cell_type": "code",
      "source": [
        "data.shape"
      ],
      "metadata": {
        "id": "QAtcgyv8M5U0"
      },
      "execution_count": null,
      "outputs": []
    },
    {
      "cell_type": "markdown",
      "source": [
        "# **pre-processing**"
      ],
      "metadata": {
        "id": "6n7sZQfnL5W4"
      }
    },
    {
      "cell_type": "code",
      "source": [
        "data.tail()"
      ],
      "metadata": {
        "id": "EPmrnIB2MD5w"
      },
      "execution_count": null,
      "outputs": []
    },
    {
      "cell_type": "code",
      "source": [
        "data.head()"
      ],
      "metadata": {
        "id": "XYgQQ7WTMJ2t"
      },
      "execution_count": null,
      "outputs": []
    },
    {
      "cell_type": "code",
      "source": [
        "data.isna().sum()                   #check null value"
      ],
      "metadata": {
        "id": "TSV_3sebMMdW"
      },
      "execution_count": null,
      "outputs": []
    },
    {
      "cell_type": "markdown",
      "source": [
        "# **Exploratory data analyis**"
      ],
      "metadata": {
        "id": "Efzy3EGxar2Q"
      }
    },
    {
      "cell_type": "code",
      "source": [
        "#hist\n",
        "data['SepalLengthCm'].hist()"
      ],
      "metadata": {
        "id": "8BqrciD8aa-y"
      },
      "execution_count": null,
      "outputs": []
    },
    {
      "cell_type": "code",
      "source": [
        "data['SepalWidthCm'].hist()"
      ],
      "metadata": {
        "id": "hJyn7PNxa2gS"
      },
      "execution_count": null,
      "outputs": []
    },
    {
      "cell_type": "code",
      "source": [
        "data['PetalLengthCm'].hist()"
      ],
      "metadata": {
        "id": "L6jk197RbAlv"
      },
      "execution_count": null,
      "outputs": []
    },
    {
      "cell_type": "code",
      "source": [
        "data['PetalWidthCm'].hist()"
      ],
      "metadata": {
        "id": "4L-CE9zVbO9_"
      },
      "execution_count": null,
      "outputs": []
    },
    {
      "cell_type": "code",
      "source": [
        "#scaterplot\n",
        "colors=['red','orange','blue']\n",
        "Species=['Iris-setosa','Iris-versicolor','Iris-virginica']\n"
      ],
      "metadata": {
        "id": "0ujHl6w_bjv7"
      },
      "execution_count": null,
      "outputs": []
    },
    {
      "cell_type": "code",
      "source": [
        "for i in range (3):\n",
        "  x=data[data['Species']==Species[i]]\n",
        "  plt.scatter(x['SepalLengthCm'],x['SepalWidthCm'], c=colors[i], label=Species[i])\n",
        "plt.xlabel(\"sepel length\")\n",
        "plt.xlabel(\"sepel width\")\n",
        "plt.legend()"
      ],
      "metadata": {
        "id": "ZYCqKpuVcPEb"
      },
      "execution_count": null,
      "outputs": []
    },
    {
      "cell_type": "code",
      "source": [
        "for i in range (3):\n",
        "  x=data[data['Species']==Species[i]]\n",
        "  plt.scatter(x['PetalLengthCm'],x['PetalWidthCm'], c=colors[i], label=Species[i])\n",
        "plt.xlabel(\"petal length\")\n",
        "plt.xlabel(\"petal width\")\n",
        "plt.legend()"
      ],
      "metadata": {
        "id": "3BqlqDumemBE"
      },
      "execution_count": null,
      "outputs": []
    },
    {
      "cell_type": "markdown",
      "source": [
        "# **Coorelation Matrix**"
      ],
      "metadata": {
        "id": "MFQMzZayfy70"
      }
    },
    {
      "cell_type": "code",
      "source": [
        "data.corr()"
      ],
      "metadata": {
        "id": "BdcoNMqrf7gN"
      },
      "execution_count": null,
      "outputs": []
    },
    {
      "cell_type": "code",
      "source": [
        "corr=data.corr()\n",
        "fig,ax=plt.subplots(figsize=(5,4))\n",
        "sns.heatmap(corr,annot=True,ax=ax)"
      ],
      "metadata": {
        "id": "wajKDPpLf7mi"
      },
      "execution_count": null,
      "outputs": []
    },
    {
      "cell_type": "markdown",
      "source": [
        "# **Label Encoder**"
      ],
      "metadata": {
        "id": "OOrNHd1QhEJF"
      }
    },
    {
      "cell_type": "code",
      "source": [
        "from sklearn.preprocessing import LabelEncoder\n",
        "le=LabelEncoder()"
      ],
      "metadata": {
        "id": "vdnkzEq8hEXx"
      },
      "execution_count": null,
      "outputs": []
    },
    {
      "cell_type": "code",
      "source": [
        "data['Species']=le.fit_transform(data['Species'])\n",
        "data.head()"
      ],
      "metadata": {
        "id": "9KyEbd5XhbRp"
      },
      "execution_count": null,
      "outputs": []
    },
    {
      "cell_type": "markdown",
      "source": [
        "# **Split the data**"
      ],
      "metadata": {
        "id": "1vjKdmWkMjV6"
      }
    },
    {
      "cell_type": "code",
      "source": [
        "X = data.drop(['Species'], axis=1)\n",
        "y = data['Species']"
      ],
      "metadata": {
        "id": "1G0aUyG3N7eC"
      },
      "execution_count": null,
      "outputs": []
    },
    {
      "cell_type": "code",
      "source": [
        "X_train, X_test, y_train, y_test = train_test_split(X,y, test_size=0.2)"
      ],
      "metadata": {
        "id": "TxyeKNceMjiD"
      },
      "execution_count": null,
      "outputs": []
    },
    {
      "cell_type": "markdown",
      "source": [
        "# **Choose a machine learning algorithm**"
      ],
      "metadata": {
        "id": "L2LdEv1fPngk"
      }
    },
    {
      "cell_type": "code",
      "source": [
        "model=LogisticRegression()"
      ],
      "metadata": {
        "id": "qCVzyiguPSsm"
      },
      "execution_count": null,
      "outputs": []
    },
    {
      "cell_type": "markdown",
      "source": [
        "# **Train the model**"
      ],
      "metadata": {
        "id": "Z25iUh2oPzjS"
      }
    },
    {
      "cell_type": "code",
      "source": [
        "model.fit(X_train, y_train)"
      ],
      "metadata": {
        "id": "yQDEUXamPyGl"
      },
      "execution_count": null,
      "outputs": []
    },
    {
      "cell_type": "code",
      "source": [
        "# Step 8: Evaluate the model\n",
        "y_pred = model.predict(X_test)\n",
        "accuracy = accuracy_score(y_test, y_pred)\n",
        "print(\"Accuracy:\", accuracy)"
      ],
      "metadata": {
        "id": "6fBKJRVLQDvt"
      },
      "execution_count": null,
      "outputs": []
    }
  ]
}